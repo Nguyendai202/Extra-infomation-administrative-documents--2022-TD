{
  "nbformat": 4,
  "nbformat_minor": 0,
  "metadata": {
    "colab": {
      "provenance": [],
      "collapsed_sections": [],
      "include_colab_link": true
    },
    "kernelspec": {
      "name": "python3",
      "display_name": "Python 3"
    },
    "language_info": {
      "name": "python"
    }
  },
  "cells": [
    {
      "cell_type": "markdown",
      "metadata": {
        "id": "view-in-github",
        "colab_type": "text"
      },
      "source": [
        "<a href=\"https://colab.research.google.com/github/Nguyendai202/Extra-infomation-administrative-documents--2022-TD/blob/model/Python_OpenCV_removes_the_red_stamp_in_the_picture_based_on_the_color_channel_separation_method.ipynb\" target=\"_parent\"><img src=\"https://colab.research.google.com/assets/colab-badge.svg\" alt=\"Open In Colab\"/></a>"
      ]
    },
    {
      "cell_type": "code",
      "source": [
        "# Xoá con dấu bằng phương pháp lọc kênh màu ( phân ngưỡng kết hợp otsu và bu=inary)\n",
        "import cv2\n",
        "import numpy as np\n",
        "\n",
        "\n",
        "class SealRemove(object):\n",
        "    \"\"\"\n",
        "    Seal processing class\n",
        "    \"\"\"\n",
        "    def remove_red_seal(self, image):\n",
        "        \"\"\"\n",
        "        Remove the red seal\n",
        "        \"\"\"\n",
        "\n",
        "        # Get the red channel\n",
        "        blue_c, green_c, red_c = cv2.split(image)\n",
        "\n",
        "        # Pass in one more parameter cv2.THRESH_OTSU, and set the threshold thresh to 0, the algorithm will find the optimal threshold\n",
        "        thresh, ret = cv2.threshold(red_c, 0, 255, cv2.THRESH_BINARY + cv2.THRESH_OTSU)\n",
        "        # Actually adjusted to 95%, the effect is better\n",
        "        filter_condition = int(thresh * 0.9)\n",
        "\n",
        "        _, red_thresh = cv2.threshold(red_c, filter_condition, 255, cv2.THRESH_BINARY)\n",
        "\n",
        "        # Turn the picture back to channel 3\n",
        "        result_img = np.expand_dims(red_thresh, axis=2)\n",
        "        result_img = np.concatenate((result_img, result_img, result_img), axis=-1)\n",
        "\n",
        "        return result_img\n",
        "\n",
        "if __name__ =='__main__':\n",
        "    image ='/content/drive/MyDrive/B2-vin/doc16_jpg.rf.ff0e8340c6e1f53f0a6dafd66048385a.jpg'\n",
        "    img = cv2.imread(image)\n",
        "    seal_rm = SealRemove()\n",
        "    rm_img = seal_rm.remove_red_seal(img)\n",
        "    cv2.imwrite(\"a.png\",rm_img)"
      ],
      "metadata": {
        "id": "tzlhn7jynEMu"
      },
      "execution_count": null,
      "outputs": []
    }
  ]
}